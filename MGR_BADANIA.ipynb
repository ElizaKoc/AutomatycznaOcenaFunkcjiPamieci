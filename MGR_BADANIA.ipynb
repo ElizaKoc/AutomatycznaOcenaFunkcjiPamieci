{
  "nbformat": 4,
  "nbformat_minor": 0,
  "metadata": {
    "colab": {
      "provenance": [],
      "collapsed_sections": []
    },
    "kernelspec": {
      "name": "python3",
      "display_name": "Python 3"
    },
    "language_info": {
      "name": "python"
    }
  },
  "cells": [
    {
      "cell_type": "code",
      "source": [
        "import shutil\n",
        "\n",
        "shutil.rmtree('/content/recordings/download')"
      ],
      "metadata": {
        "id": "1-9VrKFf1c5w"
      },
      "execution_count": 22,
      "outputs": []
    },
    {
      "cell_type": "code",
      "source": [
        "import pandas as pd\n",
        "import zipfile\n",
        "import numpy as np\n",
        "from pathlib import Path "
      ],
      "metadata": {
        "id": "zxx72Z17xN8y"
      },
      "execution_count": 23,
      "outputs": []
    },
    {
      "cell_type": "code",
      "execution_count": 24,
      "metadata": {
        "id": "B9SG_F5p0Dp3"
      },
      "outputs": [],
      "source": [
        "with zipfile.ZipFile('/content/download.zip', 'r') as zip_ref:\n",
        "    zip_ref.extractall('/content/recordings/')"
      ]
    },
    {
      "cell_type": "markdown",
      "source": [
        "## GENEROWANIE WYNIKÓW DLA PRÓB"
      ],
      "metadata": {
        "id": "5Pz5MniyF23_"
      }
    },
    {
      "cell_type": "code",
      "source": [
        "import os\n",
        "\n",
        "rootdir = os.fsencode('/content/recordings/download/')\n",
        "\n",
        "recordings = []\n",
        "manual = []\n",
        "i = 0\n",
        "j = 0\n",
        "\n",
        "for subdir, dirs, files in os.walk(rootdir):\n",
        "  if \"recognized_words\" in str(subdir): \n",
        "    for file in os.listdir(subdir):\n",
        "      filename = os.fsdecode(file)\n",
        "      if filename.endswith(\"words.csv\"):\n",
        "        recordings.append([os.path.join(str(subdir.decode(\"utf-8\")), filename), i])\n",
        "        i = i + 1\n",
        "      if filename.endswith(\"tt.csv\") or filename.endswith(\"tt2.csv\"):\n",
        "        manual.append([os.path.join(str(subdir.decode(\"utf-8\")), filename), j])\n",
        "        j = j + 1"
      ],
      "metadata": {
        "id": "oUPALGle59sH"
      },
      "execution_count": 25,
      "outputs": []
    },
    {
      "cell_type": "code",
      "source": [
        "recordings"
      ],
      "metadata": {
        "id": "WNhFAYBm8xOy"
      },
      "execution_count": null,
      "outputs": []
    },
    {
      "cell_type": "code",
      "source": [
        "manual"
      ],
      "metadata": {
        "id": "8_p88Apy9san"
      },
      "execution_count": null,
      "outputs": []
    },
    {
      "cell_type": "code",
      "source": [
        "def check_comp(data_frame):\n",
        "  check_compatibility = []\n",
        "  for idx, m in data_frame.iterrows():\n",
        "    if m['MANUAL'] == m['MODEL']:\n",
        "      check_compatibility.append(1)\n",
        "    else:\n",
        "      check_compatibility.append(0)\n",
        "  return check_compatibility"
      ],
      "metadata": {
        "id": "1Hpk5XzF4JPB"
      },
      "execution_count": 28,
      "outputs": []
    },
    {
      "cell_type": "code",
      "source": [
        "gt = pd.DataFrame.from_records(manual)\n",
        "model_rec = pd.DataFrame.from_records(recordings)\n",
        "step = 13\n",
        "m = 0\n",
        "\n",
        "list_ = ['WARNING', 'Recording onset was delayed and most words from the beginning are missing', 'The words retrieved may have inaccurate estimates of vocalization onset']\n",
        "list2_ = ['1', '2', '3', '4', '5', '6', '7', '8', '9', '0']\n",
        "\n",
        "for idx, n in enumerate(gt[0]):\n",
        "  df = pd.read_csv(n, delimiter=\";\")\n",
        "  #print(df)\n",
        "  selected_rows = df[(~df['text'].isnull()) & (~df['Unnamed: 2'].isnull())]\n",
        "  selected_rows = selected_rows[~selected_rows['text'].apply(lambda x: any(word in x for word in list2_))]\n",
        "  selected_rows = selected_rows[~selected_rows['Unnamed: 2'].apply(lambda x: any(word in x for word in list_))]\n",
        "  selected_rows = selected_rows[['text', 'Unnamed: 2']]\n",
        "\n",
        "  i = 0\n",
        "  j = 12\n",
        "  trial = 1\n",
        "\n",
        "  while j < 195:\n",
        "    ground_truth = selected_rows[i:j]\n",
        "    ground_truth = ground_truth[['text']]\n",
        "    r = pd.read_csv(model_rec[0][m], delimiter=\";\")\n",
        "    r = r[(r['from_trial'] == 'yes') & (r['trial_number'] == trial)]\n",
        "    r = r[['word']]\n",
        "\n",
        "    marks = []\n",
        "    is_on_list = False\n",
        "\n",
        "    for idx, t in ground_truth.iterrows():\n",
        "      for jdx, tt in r.iterrows():\n",
        "        if tt['word'].upper() == t['text']:\n",
        "          is_on_list = True\n",
        "      if is_on_list:\n",
        "        marks.append(1)\n",
        "        is_on_list = False\n",
        "      else:\n",
        "        marks.append(-1)\n",
        "\n",
        "    new_table = selected_rows[i:j]\n",
        "    new_table['MODEL'] = marks\n",
        "    new_table.rename(columns = {'text':'WORD', 'Unnamed: 2':'MANUAL'}, inplace = True)\n",
        "    new_table.loc[new_table[\"MODEL\"] == -1, \"MODEL\"] = 0\n",
        "    new_table[\"MANUAL\"] = np.where(new_table[\"MANUAL\"] == \"-1\", 0, 1)\n",
        "    manual_model = check_comp(new_table)\n",
        "    new_table['MANUAL_MODEL'] = manual_model\n",
        "    new_table['TRIAL_NUMBER'] = trial\n",
        "    new_table.reset_index(drop=True, inplace=True)\n",
        "    \n",
        "    path = recordings[m][0].split('words.csv')[0] + '/trials_check/trial_' + str(trial) + '.csv'\n",
        "    filepath = Path(str(path))  \n",
        "    filepath.parent.mkdir(parents=True, exist_ok=True)  \n",
        "    new_table.to_csv(filepath)\n",
        "\n",
        "    i = i + step\n",
        "    j = j + step\n",
        "    trial = trial + 1\n",
        "  m = m + 1\n"
      ],
      "metadata": {
        "colab": {
          "base_uri": "https://localhost:8080/"
        },
        "id": "8wzFf1ubJY7H",
        "outputId": "6cbe5af1-8446-4ae1-c784-5300384198a1"
      },
      "execution_count": 29,
      "outputs": [
        {
          "output_type": "stream",
          "name": "stderr",
          "text": [
            "/usr/local/lib/python3.7/dist-packages/ipykernel_launcher.py:42: SettingWithCopyWarning: \n",
            "A value is trying to be set on a copy of a slice from a DataFrame.\n",
            "Try using .loc[row_indexer,col_indexer] = value instead\n",
            "\n",
            "See the caveats in the documentation: https://pandas.pydata.org/pandas-docs/stable/user_guide/indexing.html#returning-a-view-versus-a-copy\n",
            "/usr/local/lib/python3.7/dist-packages/pandas/core/frame.py:5047: SettingWithCopyWarning: \n",
            "A value is trying to be set on a copy of a slice from a DataFrame\n",
            "\n",
            "See the caveats in the documentation: https://pandas.pydata.org/pandas-docs/stable/user_guide/indexing.html#returning-a-view-versus-a-copy\n",
            "  errors=errors,\n",
            "/usr/local/lib/python3.7/dist-packages/pandas/core/indexing.py:1817: SettingWithCopyWarning: \n",
            "A value is trying to be set on a copy of a slice from a DataFrame.\n",
            "Try using .loc[row_indexer,col_indexer] = value instead\n",
            "\n",
            "See the caveats in the documentation: https://pandas.pydata.org/pandas-docs/stable/user_guide/indexing.html#returning-a-view-versus-a-copy\n",
            "  self._setitem_single_column(loc, value, pi)\n",
            "/usr/local/lib/python3.7/dist-packages/ipykernel_launcher.py:45: SettingWithCopyWarning: \n",
            "A value is trying to be set on a copy of a slice from a DataFrame.\n",
            "Try using .loc[row_indexer,col_indexer] = value instead\n",
            "\n",
            "See the caveats in the documentation: https://pandas.pydata.org/pandas-docs/stable/user_guide/indexing.html#returning-a-view-versus-a-copy\n",
            "/usr/local/lib/python3.7/dist-packages/ipykernel_launcher.py:47: SettingWithCopyWarning: \n",
            "A value is trying to be set on a copy of a slice from a DataFrame.\n",
            "Try using .loc[row_indexer,col_indexer] = value instead\n",
            "\n",
            "See the caveats in the documentation: https://pandas.pydata.org/pandas-docs/stable/user_guide/indexing.html#returning-a-view-versus-a-copy\n",
            "/usr/local/lib/python3.7/dist-packages/ipykernel_launcher.py:48: SettingWithCopyWarning: \n",
            "A value is trying to be set on a copy of a slice from a DataFrame.\n",
            "Try using .loc[row_indexer,col_indexer] = value instead\n",
            "\n",
            "See the caveats in the documentation: https://pandas.pydata.org/pandas-docs/stable/user_guide/indexing.html#returning-a-view-versus-a-copy\n"
          ]
        }
      ]
    },
    {
      "cell_type": "markdown",
      "source": [
        "## GENEROWANIE WYNIKÓW DLA SESJI"
      ],
      "metadata": {
        "id": "PjXloD_8F-iA"
      }
    },
    {
      "cell_type": "code",
      "source": [
        "rootdir = os.fsencode('/content/recordings/download/')\n",
        "\n",
        "for subdir, dirs, files in os.walk(rootdir):\n",
        "\n",
        "  df_list = []\n",
        "\n",
        "  if \"trials_check\" in str(subdir): \n",
        "    for file in os.listdir(subdir):\n",
        "      filename = os.fsdecode(file)\n",
        "      if filename.endswith(\".csv\"):\n",
        "        #print(str(subdir.decode(\"utf-8\")) + filename)\n",
        "        df = pd.read_csv(str(subdir.decode(\"utf-8\")) + '/' + filename)\n",
        "        #df.drop(['Unnamed: 0'], axis=1)\n",
        "        df_list.append(df)\n",
        "        #recordings.append([os.path.join(str(subdir.decode(\"utf-8\")), filename), i])\n",
        "    new_df = pd.concat(df_list)\n",
        "    new_df.rename(columns = {'Unnamed: 0':'INDEX'}, inplace = True)\n",
        "    new_df = new_df.sort_values(by=['TRIAL_NUMBER', 'INDEX'])\n",
        "    \n",
        "\n",
        "    path = str(subdir.decode(\"utf-8\")) + '/entire_session/session_sumup.csv'\n",
        "    filepath = Path(str(path))  \n",
        "    filepath.parent.mkdir(parents=True, exist_ok=True)  \n",
        "    new_df.to_csv(filepath, index=False)"
      ],
      "metadata": {
        "id": "xajmTzzHGBG4"
      },
      "execution_count": 30,
      "outputs": []
    },
    {
      "cell_type": "code",
      "source": [
        "new_df"
      ],
      "metadata": {
        "colab": {
          "base_uri": "https://localhost:8080/",
          "height": 424
        },
        "id": "QWYs2qLIM78o",
        "outputId": "5673321e-10fd-425e-d99c-3f0396eef11d"
      },
      "execution_count": 20,
      "outputs": [
        {
          "output_type": "execute_result",
          "data": {
            "text/plain": [
              "     INDEX   WORD  MANUAL  MODEL  MANUAL_MODEL  TRIAL_NUMBER\n",
              "0        0   SAIL       1      0             0             1\n",
              "1        1    ICE       1      0             0             1\n",
              "2        2   SALT       0      0             1             1\n",
              "3        3   FLEA       1      0             0             1\n",
              "4        4   BIRD       0      0             1             1\n",
              "..     ...    ...     ...    ...           ...           ...\n",
              "175      7   MOTH       0      0             1            15\n",
              "176      8  PANTS       1      0             0            15\n",
              "177      9   BARN       1      0             0            15\n",
              "178     10  CLOUD       0      0             1            15\n",
              "179     11  CLIFF       0      0             1            15\n",
              "\n",
              "[180 rows x 6 columns]"
            ],
            "text/html": [
              "\n",
              "  <div id=\"df-57635f14-031e-427d-930f-0af196f6d628\">\n",
              "    <div class=\"colab-df-container\">\n",
              "      <div>\n",
              "<style scoped>\n",
              "    .dataframe tbody tr th:only-of-type {\n",
              "        vertical-align: middle;\n",
              "    }\n",
              "\n",
              "    .dataframe tbody tr th {\n",
              "        vertical-align: top;\n",
              "    }\n",
              "\n",
              "    .dataframe thead th {\n",
              "        text-align: right;\n",
              "    }\n",
              "</style>\n",
              "<table border=\"1\" class=\"dataframe\">\n",
              "  <thead>\n",
              "    <tr style=\"text-align: right;\">\n",
              "      <th></th>\n",
              "      <th>INDEX</th>\n",
              "      <th>WORD</th>\n",
              "      <th>MANUAL</th>\n",
              "      <th>MODEL</th>\n",
              "      <th>MANUAL_MODEL</th>\n",
              "      <th>TRIAL_NUMBER</th>\n",
              "    </tr>\n",
              "  </thead>\n",
              "  <tbody>\n",
              "    <tr>\n",
              "      <th>0</th>\n",
              "      <td>0</td>\n",
              "      <td>SAIL</td>\n",
              "      <td>1</td>\n",
              "      <td>0</td>\n",
              "      <td>0</td>\n",
              "      <td>1</td>\n",
              "    </tr>\n",
              "    <tr>\n",
              "      <th>1</th>\n",
              "      <td>1</td>\n",
              "      <td>ICE</td>\n",
              "      <td>1</td>\n",
              "      <td>0</td>\n",
              "      <td>0</td>\n",
              "      <td>1</td>\n",
              "    </tr>\n",
              "    <tr>\n",
              "      <th>2</th>\n",
              "      <td>2</td>\n",
              "      <td>SALT</td>\n",
              "      <td>0</td>\n",
              "      <td>0</td>\n",
              "      <td>1</td>\n",
              "      <td>1</td>\n",
              "    </tr>\n",
              "    <tr>\n",
              "      <th>3</th>\n",
              "      <td>3</td>\n",
              "      <td>FLEA</td>\n",
              "      <td>1</td>\n",
              "      <td>0</td>\n",
              "      <td>0</td>\n",
              "      <td>1</td>\n",
              "    </tr>\n",
              "    <tr>\n",
              "      <th>4</th>\n",
              "      <td>4</td>\n",
              "      <td>BIRD</td>\n",
              "      <td>0</td>\n",
              "      <td>0</td>\n",
              "      <td>1</td>\n",
              "      <td>1</td>\n",
              "    </tr>\n",
              "    <tr>\n",
              "      <th>...</th>\n",
              "      <td>...</td>\n",
              "      <td>...</td>\n",
              "      <td>...</td>\n",
              "      <td>...</td>\n",
              "      <td>...</td>\n",
              "      <td>...</td>\n",
              "    </tr>\n",
              "    <tr>\n",
              "      <th>175</th>\n",
              "      <td>7</td>\n",
              "      <td>MOTH</td>\n",
              "      <td>0</td>\n",
              "      <td>0</td>\n",
              "      <td>1</td>\n",
              "      <td>15</td>\n",
              "    </tr>\n",
              "    <tr>\n",
              "      <th>176</th>\n",
              "      <td>8</td>\n",
              "      <td>PANTS</td>\n",
              "      <td>1</td>\n",
              "      <td>0</td>\n",
              "      <td>0</td>\n",
              "      <td>15</td>\n",
              "    </tr>\n",
              "    <tr>\n",
              "      <th>177</th>\n",
              "      <td>9</td>\n",
              "      <td>BARN</td>\n",
              "      <td>1</td>\n",
              "      <td>0</td>\n",
              "      <td>0</td>\n",
              "      <td>15</td>\n",
              "    </tr>\n",
              "    <tr>\n",
              "      <th>178</th>\n",
              "      <td>10</td>\n",
              "      <td>CLOUD</td>\n",
              "      <td>0</td>\n",
              "      <td>0</td>\n",
              "      <td>1</td>\n",
              "      <td>15</td>\n",
              "    </tr>\n",
              "    <tr>\n",
              "      <th>179</th>\n",
              "      <td>11</td>\n",
              "      <td>CLIFF</td>\n",
              "      <td>0</td>\n",
              "      <td>0</td>\n",
              "      <td>1</td>\n",
              "      <td>15</td>\n",
              "    </tr>\n",
              "  </tbody>\n",
              "</table>\n",
              "<p>180 rows × 6 columns</p>\n",
              "</div>\n",
              "      <button class=\"colab-df-convert\" onclick=\"convertToInteractive('df-57635f14-031e-427d-930f-0af196f6d628')\"\n",
              "              title=\"Convert this dataframe to an interactive table.\"\n",
              "              style=\"display:none;\">\n",
              "        \n",
              "  <svg xmlns=\"http://www.w3.org/2000/svg\" height=\"24px\"viewBox=\"0 0 24 24\"\n",
              "       width=\"24px\">\n",
              "    <path d=\"M0 0h24v24H0V0z\" fill=\"none\"/>\n",
              "    <path d=\"M18.56 5.44l.94 2.06.94-2.06 2.06-.94-2.06-.94-.94-2.06-.94 2.06-2.06.94zm-11 1L8.5 8.5l.94-2.06 2.06-.94-2.06-.94L8.5 2.5l-.94 2.06-2.06.94zm10 10l.94 2.06.94-2.06 2.06-.94-2.06-.94-.94-2.06-.94 2.06-2.06.94z\"/><path d=\"M17.41 7.96l-1.37-1.37c-.4-.4-.92-.59-1.43-.59-.52 0-1.04.2-1.43.59L10.3 9.45l-7.72 7.72c-.78.78-.78 2.05 0 2.83L4 21.41c.39.39.9.59 1.41.59.51 0 1.02-.2 1.41-.59l7.78-7.78 2.81-2.81c.8-.78.8-2.07 0-2.86zM5.41 20L4 18.59l7.72-7.72 1.47 1.35L5.41 20z\"/>\n",
              "  </svg>\n",
              "      </button>\n",
              "      \n",
              "  <style>\n",
              "    .colab-df-container {\n",
              "      display:flex;\n",
              "      flex-wrap:wrap;\n",
              "      gap: 12px;\n",
              "    }\n",
              "\n",
              "    .colab-df-convert {\n",
              "      background-color: #E8F0FE;\n",
              "      border: none;\n",
              "      border-radius: 50%;\n",
              "      cursor: pointer;\n",
              "      display: none;\n",
              "      fill: #1967D2;\n",
              "      height: 32px;\n",
              "      padding: 0 0 0 0;\n",
              "      width: 32px;\n",
              "    }\n",
              "\n",
              "    .colab-df-convert:hover {\n",
              "      background-color: #E2EBFA;\n",
              "      box-shadow: 0px 1px 2px rgba(60, 64, 67, 0.3), 0px 1px 3px 1px rgba(60, 64, 67, 0.15);\n",
              "      fill: #174EA6;\n",
              "    }\n",
              "\n",
              "    [theme=dark] .colab-df-convert {\n",
              "      background-color: #3B4455;\n",
              "      fill: #D2E3FC;\n",
              "    }\n",
              "\n",
              "    [theme=dark] .colab-df-convert:hover {\n",
              "      background-color: #434B5C;\n",
              "      box-shadow: 0px 1px 3px 1px rgba(0, 0, 0, 0.15);\n",
              "      filter: drop-shadow(0px 1px 2px rgba(0, 0, 0, 0.3));\n",
              "      fill: #FFFFFF;\n",
              "    }\n",
              "  </style>\n",
              "\n",
              "      <script>\n",
              "        const buttonEl =\n",
              "          document.querySelector('#df-57635f14-031e-427d-930f-0af196f6d628 button.colab-df-convert');\n",
              "        buttonEl.style.display =\n",
              "          google.colab.kernel.accessAllowed ? 'block' : 'none';\n",
              "\n",
              "        async function convertToInteractive(key) {\n",
              "          const element = document.querySelector('#df-57635f14-031e-427d-930f-0af196f6d628');\n",
              "          const dataTable =\n",
              "            await google.colab.kernel.invokeFunction('convertToInteractive',\n",
              "                                                     [key], {});\n",
              "          if (!dataTable) return;\n",
              "\n",
              "          const docLinkHtml = 'Like what you see? Visit the ' +\n",
              "            '<a target=\"_blank\" href=https://colab.research.google.com/notebooks/data_table.ipynb>data table notebook</a>'\n",
              "            + ' to learn more about interactive tables.';\n",
              "          element.innerHTML = '';\n",
              "          dataTable['output_type'] = 'display_data';\n",
              "          await google.colab.output.renderOutput(dataTable, element);\n",
              "          const docLink = document.createElement('div');\n",
              "          docLink.innerHTML = docLinkHtml;\n",
              "          element.appendChild(docLink);\n",
              "        }\n",
              "      </script>\n",
              "    </div>\n",
              "  </div>\n",
              "  "
            ]
          },
          "metadata": {},
          "execution_count": 20
        }
      ]
    },
    {
      "cell_type": "markdown",
      "source": [
        "## POBRANIE ZIPA Z WYNIKAMI"
      ],
      "metadata": {
        "id": "qea1uEmaQZEE"
      }
    },
    {
      "cell_type": "code",
      "source": [
        "!zip -r /content/recordings.zip /content/recordings"
      ],
      "metadata": {
        "id": "5jDsrdiWx5Me"
      },
      "execution_count": null,
      "outputs": []
    },
    {
      "cell_type": "code",
      "source": [
        "from google.colab import files\n",
        "files.download(\"/content/recordings.zip\")"
      ],
      "metadata": {
        "colab": {
          "base_uri": "https://localhost:8080/",
          "height": 17
        },
        "id": "QWAJm-RMyCZW",
        "outputId": "6a9547ba-037f-4724-9a04-c6484a3905b1"
      },
      "execution_count": 32,
      "outputs": [
        {
          "output_type": "display_data",
          "data": {
            "text/plain": [
              "<IPython.core.display.Javascript object>"
            ],
            "application/javascript": [
              "\n",
              "    async function download(id, filename, size) {\n",
              "      if (!google.colab.kernel.accessAllowed) {\n",
              "        return;\n",
              "      }\n",
              "      const div = document.createElement('div');\n",
              "      const label = document.createElement('label');\n",
              "      label.textContent = `Downloading \"${filename}\": `;\n",
              "      div.appendChild(label);\n",
              "      const progress = document.createElement('progress');\n",
              "      progress.max = size;\n",
              "      div.appendChild(progress);\n",
              "      document.body.appendChild(div);\n",
              "\n",
              "      const buffers = [];\n",
              "      let downloaded = 0;\n",
              "\n",
              "      const channel = await google.colab.kernel.comms.open(id);\n",
              "      // Send a message to notify the kernel that we're ready.\n",
              "      channel.send({})\n",
              "\n",
              "      for await (const message of channel.messages) {\n",
              "        // Send a message to notify the kernel that we're ready.\n",
              "        channel.send({})\n",
              "        if (message.buffers) {\n",
              "          for (const buffer of message.buffers) {\n",
              "            buffers.push(buffer);\n",
              "            downloaded += buffer.byteLength;\n",
              "            progress.value = downloaded;\n",
              "          }\n",
              "        }\n",
              "      }\n",
              "      const blob = new Blob(buffers, {type: 'application/binary'});\n",
              "      const a = document.createElement('a');\n",
              "      a.href = window.URL.createObjectURL(blob);\n",
              "      a.download = filename;\n",
              "      div.appendChild(a);\n",
              "      a.click();\n",
              "      div.remove();\n",
              "    }\n",
              "  "
            ]
          },
          "metadata": {}
        },
        {
          "output_type": "display_data",
          "data": {
            "text/plain": [
              "<IPython.core.display.Javascript object>"
            ],
            "application/javascript": [
              "download(\"download_03072c1a-f77f-4677-a00b-22c53806f902\", \"recordings.zip\", 311237)"
            ]
          },
          "metadata": {}
        }
      ]
    },
    {
      "cell_type": "markdown",
      "source": [
        "## TESTY"
      ],
      "metadata": {
        "id": "j5MGjKOxxfJi"
      }
    },
    {
      "cell_type": "code",
      "source": [
        "#gt[0][0]\n",
        "gt = pd.DataFrame.from_records(recordings)\n",
        "df = pd.read_csv(gt[0][2], delimiter=\";\")\n",
        "df = df[(df['from_trial'] == 'yes') & (df['trial_number'] == 2)]\n",
        "df = df[['word']]\n",
        "\n",
        "gt2 = pd.DataFrame.from_records(manual)\n",
        "df2 = pd.read_csv(gt2[0][2], delimiter=\";\")[9:]\n",
        "\n",
        "selected_rows = df2[(~df2['text'].isnull()) & (~df2['Unnamed: 2'].isnull())]\n",
        "selected_rows = selected_rows[['text']]\n",
        "\n",
        "marks = []\n",
        "is_on_list = False\n",
        "\n",
        "for idx, t in (selected_rows[13:25]).iterrows():\n",
        "  #print(t['text'])\n",
        "  for jdx, tt in df.iterrows():\n",
        "    #print(tt['word'].upper())\n",
        "    if tt['word'].upper() == t['text']:\n",
        "      is_on_list = True\n",
        "  if is_on_list:\n",
        "    marks.append(1)\n",
        "    is_on_list = False\n",
        "  else:\n",
        "    marks.append(-1)\n",
        "\n",
        "marks"
      ],
      "metadata": {
        "id": "hb-UwicvFK1Q"
      },
      "execution_count": null,
      "outputs": []
    },
    {
      "cell_type": "code",
      "source": [
        "gt = pd.DataFrame.from_records(manual)\n",
        "\n",
        "#for idx, n in enumerate(gt[0]):\n",
        "  #print(n)\n",
        "df = pd.read_csv(gt[0][6], delimiter=\";\")\n",
        "selected_rows = df[(~df['text'].isnull()) & (~df['Unnamed: 2'].isnull())]\n",
        "list_ = ['WARNING', 'Recording onset was delayed and most words from the beginning are missing', 'The words retrieved may have inaccurate estimates of vocalization onset']\n",
        "selected_rows = selected_rows[~selected_rows['Unnamed: 2'].apply(lambda x: any(word in x for word in list_))]\n",
        "  #print(df['Unnamed: 2'])\n",
        "#df[['Unnamed: 2']]\n",
        "selected_rows"
      ],
      "metadata": {
        "id": "1vknxMUDYCsQ"
      },
      "execution_count": null,
      "outputs": []
    },
    {
      "cell_type": "code",
      "source": [
        "gt = pd.DataFrame.from_records(manual)\n",
        "df = pd.read_csv(gt[0][1], delimiter=\";\")[9:]"
      ],
      "metadata": {
        "id": "0FHC5eQqFZ1J"
      },
      "execution_count": null,
      "outputs": []
    },
    {
      "cell_type": "code",
      "source": [
        "df[~df['Unnamed: 2'].isnull()]"
      ],
      "metadata": {
        "id": "pBUDqnJBHrmH"
      },
      "execution_count": null,
      "outputs": []
    },
    {
      "cell_type": "code",
      "source": [
        "selected_rows = df[(~df['text'].isnull()) & (~df['Unnamed: 2'].isnull())]\n",
        "#selected_rows = selected_rows[~selected_rows['Unnamed: 2'].isnull()]\n",
        "#selected_rows = selected_rows[~selected_rows['Unnamed: 2'] != '1 of 15 trials completed']\n",
        "selected_rows = selected_rows[['text', 'Unnamed: 2']]\n",
        "selected_rows"
      ],
      "metadata": {
        "id": "C5vdw6aiG3QJ"
      },
      "execution_count": null,
      "outputs": []
    },
    {
      "cell_type": "code",
      "source": [
        "selected_rows[26:38]"
      ],
      "metadata": {
        "id": "o4j0DeplJ4gE"
      },
      "execution_count": null,
      "outputs": []
    },
    {
      "cell_type": "code",
      "source": [
        "i = 0\n",
        "j = 12\n",
        "step = 13\n",
        "while(j != 90):\n",
        "  print(i)\n",
        "  print(j)\n",
        "  i = i + step\n",
        "  j = j + step"
      ],
      "metadata": {
        "id": "cT5BsknEK-2I"
      },
      "execution_count": null,
      "outputs": []
    }
  ]
}